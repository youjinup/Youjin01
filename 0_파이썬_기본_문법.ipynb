{
  "nbformat": 4,
  "nbformat_minor": 0,
  "metadata": {
    "colab": {
      "provenance": [],
      "authorship_tag": "ABX9TyO5xRF1L4PKjwS/aHLjn8cx",
      "include_colab_link": true
    },
    "kernelspec": {
      "name": "python3",
      "display_name": "Python 3"
    },
    "language_info": {
      "name": "python"
    }
  },
  "cells": [
    {
      "cell_type": "markdown",
      "metadata": {
        "id": "view-in-github",
        "colab_type": "text"
      },
      "source": [
        "<a href=\"https://colab.research.google.com/github/youjinup/Youjin01/blob/main/0_%ED%8C%8C%EC%9D%B4%EC%8D%AC_%EA%B8%B0%EB%B3%B8_%EB%AC%B8%EB%B2%95.ipynb\" target=\"_parent\"><img src=\"https://colab.research.google.com/assets/colab-badge.svg\" alt=\"Open In Colab\"/></a>"
      ]
    },
    {
      "cell_type": "markdown",
      "source": [
        "# AAA\n",
        "주 언어: C(알고리즘), JAVA(책)\n",
        "\n",
        "서브 언어: Python\n",
        "\n",
        "[colab]사용\n",
        "\n",
        "- 데이터 크롤링은 필요함\n",
        "\n",
        "- 데이터 시작화\n",
        "데이터 분석결과를 쉽게 전달하기 위해\n",
        "시각적 수단(그래프, 차트)을 이용하는것\n",
        "\n",
        "\n"
      ],
      "metadata": {
        "id": "xToJuyGtioij"
      }
    },
    {
      "cell_type": "markdown",
      "source": [
        "# 01 파이썬 기초 문법\n"
      ],
      "metadata": {
        "id": "NTy6IZRA6jPH"
      }
    },
    {
      "cell_type": "markdown",
      "source": [
        "## 01-1 변수"
      ],
      "metadata": {
        "id": "uBN7aaRl6rV-"
      }
    },
    {
      "cell_type": "markdown",
      "source": [
        "### 변수는 값을 담는 그릇\n",
        "\n",
        "*   의미있게 변수명 짓기\n",
        "*   숫자로 시작하면 안됨\n",
        "*   _ 언더스코어를 제외한 특수기호는 안됨\n",
        "*   중간에 공백이 있으면 안됨\n",
        "*   keyword를 제외한 영문,한글 가능\n",
        "\n",
        "\n",
        "\n",
        "\n"
      ],
      "metadata": {
        "id": "YYr0l71B7id0"
      }
    },
    {
      "cell_type": "code",
      "source": [
        "name = '박유진'\n",
        "\n",
        "print(name)"
      ],
      "metadata": {
        "colab": {
          "base_uri": "https://localhost:8080/"
        },
        "id": "6AHB6cnq7g39",
        "outputId": "d1af0c47-9a04-4c4e-a6cc-0ce6ddb68836"
      },
      "execution_count": null,
      "outputs": [
        {
          "output_type": "stream",
          "name": "stdout",
          "text": [
            "박유진\n"
          ]
        }
      ]
    },
    {
      "cell_type": "code",
      "source": [
        "age = 24\n",
        "\n",
        "print(age)"
      ],
      "metadata": {
        "colab": {
          "base_uri": "https://localhost:8080/"
        },
        "id": "Re0XcJ9T9Zie",
        "outputId": "75d1f609-89a9-4468-8619-931c8a6e242c"
      },
      "execution_count": null,
      "outputs": [
        {
          "output_type": "stream",
          "name": "stdout",
          "text": [
            "24\n"
          ]
        }
      ]
    },
    {
      "cell_type": "code",
      "source": [
        "point =23.887\n",
        "print(point)"
      ],
      "metadata": {
        "colab": {
          "base_uri": "https://localhost:8080/"
        },
        "id": "foBQyqjL9kvD",
        "outputId": "993b8703-4afa-4505-8f51-61837da3654d"
      },
      "execution_count": null,
      "outputs": [
        {
          "output_type": "stream",
          "name": "stdout",
          "text": [
            "23.887\n"
          ]
        }
      ]
    },
    {
      "cell_type": "markdown",
      "source": [
        "## 01-2 사칙연산 (+,-,*,/,%)"
      ],
      "metadata": {
        "id": "6_wUTPEi-F4K"
      }
    },
    {
      "cell_type": "code",
      "source": [
        "# 숫자의 덧셈\n",
        "\n",
        "num1 = 10\n",
        "num2 = 20\n",
        "result = num1+ num2\n",
        "print(result)"
      ],
      "metadata": {
        "colab": {
          "base_uri": "https://localhost:8080/"
        },
        "id": "B7orb58191a1",
        "outputId": "deca7c98-ec06-40ea-b272-ee2fb7868d8f"
      },
      "execution_count": null,
      "outputs": [
        {
          "output_type": "stream",
          "name": "stdout",
          "text": [
            "30\n"
          ]
        }
      ]
    },
    {
      "cell_type": "markdown",
      "source": [
        "## 01-3 문자열"
      ],
      "metadata": {
        "id": "kb5c8owq-ke1"
      }
    },
    {
      "cell_type": "markdown",
      "source": [
        "### 문자열 추출"
      ],
      "metadata": {
        "id": "VG0q8snN-uvZ"
      }
    },
    {
      "cell_type": "code",
      "source": [
        "word = '안녕하세요. 반갑습니다'\n",
        "print(word)\n",
        "\n",
        "print(word[0])\n",
        "print(word[0:6])   # 문자열 슬라이싱  0~6\n",
        "print(word[7:])    # 문자열 슬라이싱  7~\n",
        "\n",
        "print(\"\")\n",
        "\n",
        "print(word[-1])\n",
        "print(word[0:-2])\n",
        "print(word[0:8])"
      ],
      "metadata": {
        "colab": {
          "base_uri": "https://localhost:8080/"
        },
        "id": "0Dj4StbW-Yz9",
        "outputId": "1a5a2883-82cc-4a0a-8968-c8b029414089"
      },
      "execution_count": null,
      "outputs": [
        {
          "output_type": "stream",
          "name": "stdout",
          "text": [
            "안녕하세요. 반갑습니다\n",
            "안\n",
            "안녕하세요.\n",
            "반갑습니다\n",
            "\n",
            "다\n",
            "안녕하세요. 반갑습\n",
            "안녕하세요. 반\n"
          ]
        }
      ]
    },
    {
      "cell_type": "markdown",
      "source": [
        "### 문자열 연결 연산자 +"
      ],
      "metadata": {
        "id": "7S9U_mzj_uG1"
      }
    },
    {
      "cell_type": "code",
      "source": [
        "str1 = '안녕'\n",
        "str2 = '하세요'\n",
        "\n",
        "str_result = str1 + str2\n",
        "print(str_result)"
      ],
      "metadata": {
        "colab": {
          "base_uri": "https://localhost:8080/"
        },
        "id": "HtT6oYlD-7sb",
        "outputId": "08979ec9-6bc0-4b73-d09d-a2811356ff5b"
      },
      "execution_count": null,
      "outputs": [
        {
          "output_type": "stream",
          "name": "stdout",
          "text": [
            "안녕하세요\n"
          ]
        }
      ]
    },
    {
      "cell_type": "markdown",
      "source": [
        "### 문자열 `str()` 형변환 함수"
      ],
      "metadata": {
        "id": "AbsGFlmlAOJG"
      }
    },
    {
      "cell_type": "code",
      "source": [
        "str_result + str(result)"
      ],
      "metadata": {
        "colab": {
          "base_uri": "https://localhost:8080/",
          "height": 36
        },
        "id": "g8LvoPoaAGFZ",
        "outputId": "6cf83a73-4724-4fd1-e791-c2b59beee0e9"
      },
      "execution_count": null,
      "outputs": [
        {
          "output_type": "execute_result",
          "data": {
            "text/plain": [
              "'안녕하세요30'"
            ],
            "application/vnd.google.colaboratory.intrinsic+json": {
              "type": "string"
            }
          },
          "metadata": {},
          "execution_count": 16
        }
      ]
    },
    {
      "cell_type": "markdown",
      "source": [
        "### 문자열 반복 연산자 *\n",
        "\n"
      ],
      "metadata": {
        "id": "fhUwQdwdA0dp"
      }
    },
    {
      "cell_type": "code",
      "source": [
        "print(str1 * 10)\n",
        "print('-' * 30)"
      ],
      "metadata": {
        "colab": {
          "base_uri": "https://localhost:8080/"
        },
        "id": "jZzYE3OdAiox",
        "outputId": "fea359f7-e241-4675-a72e-c6bd4f693341"
      },
      "execution_count": null,
      "outputs": [
        {
          "output_type": "stream",
          "name": "stdout",
          "text": [
            "안녕안녕안녕안녕안녕안녕안녕안녕안녕안녕\n",
            "------------------------------\n"
          ]
        }
      ]
    },
    {
      "cell_type": "markdown",
      "source": [
        "### 문자열 길이 구하는 `len()` 함수"
      ],
      "metadata": {
        "id": "AfB1XhJjBbrL"
      }
    },
    {
      "cell_type": "code",
      "source": [
        "len(word)"
      ],
      "metadata": {
        "colab": {
          "base_uri": "https://localhost:8080/"
        },
        "id": "RmaYNFtgBfjM",
        "outputId": "03974540-94e2-4863-d6a0-972b37b6ed41"
      },
      "execution_count": null,
      "outputs": [
        {
          "output_type": "execute_result",
          "data": {
            "text/plain": [
              "12"
            ]
          },
          "metadata": {},
          "execution_count": 19
        }
      ]
    },
    {
      "cell_type": "markdown",
      "source": [
        "### 문자열 포맷팅"
      ],
      "metadata": {
        "id": "uVJXxeVFBsiJ"
      }
    },
    {
      "cell_type": "markdown",
      "source": [
        "| 코드          | 의미                |\n",
        "|----------------|---------------------|\n",
        "| %s\t        | s는 'string' 첫글자로 문자열 의미             |\n",
        "| %d          | d는 'digit' 첫글자로 정수형 숫자 의미         |\n",
        "| %f          | f는 'floating point' 첫글자로 실수형 숫자 의미 |\n",
        "| %.1f          | 실수에서 소수점 첫째 자리(둘째 자리에서 반올림) 구함 |\n",
        "\n",
        "형변환 하지 않고도 출력을 할수있다\n",
        "\n",
        "중간에 값을 넣고싶을때 사용한다."
      ],
      "metadata": {
        "id": "D5ZyfHgKB5GC"
      }
    },
    {
      "cell_type": "code",
      "source": [
        "animal = '강아지'\n",
        "x = '나는 ' + animal + '를 좋아합니다.'\n",
        "print(x)\n"
      ],
      "metadata": {
        "colab": {
          "base_uri": "https://localhost:8080/"
        },
        "id": "qIA1i-BcBnxs",
        "outputId": "9c910edc-b72f-41ad-dd54-917aad35c4cf"
      },
      "execution_count": null,
      "outputs": [
        {
          "output_type": "stream",
          "name": "stdout",
          "text": [
            "나는 강아지를 좋아합니다.\n"
          ]
        }
      ]
    },
    {
      "cell_type": "code",
      "source": [
        "# 문자열 포맷팅\n",
        "\n",
        "x = '나는 %s를 좋아합니다.' % animal\n",
        "print(x)\n"
      ],
      "metadata": {
        "colab": {
          "base_uri": "https://localhost:8080/"
        },
        "id": "08Db4qO8CnR2",
        "outputId": "0c30a468-87f1-42ef-b878-1d7f5a3abb8e"
      },
      "execution_count": null,
      "outputs": [
        {
          "output_type": "stream",
          "name": "stdout",
          "text": [
            "나는 강아지를 좋아합니다.\n"
          ]
        }
      ]
    },
    {
      "cell_type": "code",
      "source": [
        "kor = 88\n",
        "eng = 95\n",
        "math = 100\n",
        "total = kor + eng + math\n",
        "avg = total / 3\n",
        "\n",
        "print('합계 : %d, 평균 : %.2f'%(total , avg))"
      ],
      "metadata": {
        "colab": {
          "base_uri": "https://localhost:8080/"
        },
        "id": "3qZ9nbRkC0wy",
        "outputId": "83d9b396-13f4-416d-f6a1-3c50ec3df757"
      },
      "execution_count": null,
      "outputs": [
        {
          "output_type": "stream",
          "name": "stdout",
          "text": [
            "합계 : 283, 평균 : 94.33\n"
          ]
        }
      ]
    },
    {
      "cell_type": "markdown",
      "source": [
        "### 키보드 입력 `input()`  함수"
      ],
      "metadata": {
        "id": "wnjFED8TD6le"
      }
    },
    {
      "cell_type": "code",
      "source": [
        "person = input('이름을 입력하세요: ')\n",
        "\n",
        "print('%s님 반갑습니다.' %person )\n"
      ],
      "metadata": {
        "colab": {
          "base_uri": "https://localhost:8080/"
        },
        "id": "cWHeE8FpDtzz",
        "outputId": "6dd840ad-ffd1-46ca-a86e-5eb6fac41282"
      },
      "execution_count": null,
      "outputs": [
        {
          "output_type": "stream",
          "name": "stdout",
          "text": [
            "이름을 입력하세요: park\n",
            "park 님 반갑습니다.\n"
          ]
        }
      ]
    },
    {
      "cell_type": "markdown",
      "source": [
        "### 숫자 형변환 `int()`함수"
      ],
      "metadata": {
        "id": "w2NtYkOBEl7c"
      }
    },
    {
      "cell_type": "code",
      "source": [
        "num1 = input('첫번째 정수를 입력하시오: ')\n",
        "num2 = input('두번째 정수를 입력하시오: ')\n",
        "\n",
        "print(int(num1) + int(num2))"
      ],
      "metadata": {
        "colab": {
          "base_uri": "https://localhost:8080/"
        },
        "id": "mI8WEg5-EN6g",
        "outputId": "5eebb2be-d6af-444c-b44b-b9e18f7f4ed8"
      },
      "execution_count": null,
      "outputs": [
        {
          "output_type": "stream",
          "name": "stdout",
          "text": [
            "첫번째 정수를 입력하시오: 55\n",
            "두번째 정수를 입력하시오: 85\n",
            "140\n"
          ]
        }
      ]
    },
    {
      "cell_type": "markdown",
      "source": [
        "## 01-4 주석문"
      ],
      "metadata": {
        "id": "2MljC7BhFMQK"
      }
    },
    {
      "cell_type": "code",
      "source": [
        "# 간단한 설명을 위한 한줄 주석\n",
        "\n",
        "'''\n",
        "프로그램 설명이나 긴글 주석을 위한 장문 주석\n",
        "2023-12-28 프로그램 설명\n",
        "'''"
      ],
      "metadata": {
        "colab": {
          "base_uri": "https://localhost:8080/",
          "height": 36
        },
        "id": "pTH3jUEsE5oQ",
        "outputId": "64cb752e-f7a2-4571-d694-64ee5f022861"
      },
      "execution_count": null,
      "outputs": [
        {
          "output_type": "execute_result",
          "data": {
            "text/plain": [
              "'\\n프로그램 설명이나 긴글 주석을 위한 장문 주석\\n2023-12-28 프로그램 설명\\n'"
            ],
            "application/vnd.google.colaboratory.intrinsic+json": {
              "type": "string"
            }
          },
          "metadata": {},
          "execution_count": 29
        }
      ]
    },
    {
      "cell_type": "markdown",
      "source": [
        "# 02 조건문"
      ],
      "metadata": {
        "id": "uObcTixlICO0"
      }
    },
    {
      "cell_type": "markdown",
      "source": [
        "## 02-1 if문"
      ],
      "metadata": {
        "id": "U46vs-LaICYj"
      }
    },
    {
      "cell_type": "markdown",
      "source": [
        "| 구문          | 의미                |\n",
        "|----------------|---------------------|\n",
        "| if ~\t           |만약 조건을 만족하면 ~ 작업 수행|\n",
        "| if ~ else ~ |만약 조건을 만족하면 ~ 작업 수행하고, 그렇지 않으면 ~ 작업을 수행|\n",
        "| if ~ elif ~ else    |만약 조건 1을 만족하면 작업 1 수행, 조건 2를 만족하면 작업 2 수행... 그렇지 않으면 else 작업 수행|"
      ],
      "metadata": {
        "id": "7Jri36v2IKw_"
      }
    },
    {
      "cell_type": "code",
      "source": [
        "x = int(input('정수를 입력하시오: '))\n",
        "\n",
        "if x > 0:\n",
        "  print('입력된 수는 양수입니다.')\n",
        "\n",
        "  print('계속 if문 안에 있습니다.')\n",
        "\n",
        "else:\n",
        "  print('입력된 수는 음수 or 0 입니다.')\n"
      ],
      "metadata": {
        "colab": {
          "base_uri": "https://localhost:8080/"
        },
        "id": "QW24VR98FfRy",
        "outputId": "ec91890d-9fea-4e77-e514-5e55d77f8401"
      },
      "execution_count": null,
      "outputs": [
        {
          "output_type": "stream",
          "name": "stdout",
          "text": [
            "정수를 입력하시오: 0\n",
            "입력된 수는 음수 or 0 입니다.\n"
          ]
        }
      ]
    },
    {
      "cell_type": "markdown",
      "source": [
        "## 02-2 비교 연산자와 논리 연산자"
      ],
      "metadata": {
        "id": "2MmumJ6vI_Oz"
      }
    },
    {
      "cell_type": "markdown",
      "source": [
        "| 연산자          | 종류                |\n",
        "|----------------|---------------------|\n",
        "| 비교 연산자 | >, <, ==, !=, <=, >=    |\n",
        "| 논리 연산자 | and, or, not            |"
      ],
      "metadata": {
        "id": "2HXyEwnIJhtb"
      }
    },
    {
      "cell_type": "markdown",
      "source": [
        "### 비교 연산자"
      ],
      "metadata": {
        "id": "AkItcGv8Kg3W"
      }
    },
    {
      "cell_type": "markdown",
      "source": [
        "| 비교 연산자          | 의미       |\n",
        "|----------------|---------------------|\n",
        "| a == b | a와 b는 같다    |\n",
        "| a != b | a와 b는 같지 않다    |\n",
        "| a > b | a는 b보다 크다    |\n",
        "| a >= b | a는 b보다 크거나 같다    |\n",
        "| a < b | a는 b보다 작다   |\n",
        "| a <= b | a는 b보다 작거나 같다    |"
      ],
      "metadata": {
        "id": "30J_6aHGJdzc"
      }
    },
    {
      "cell_type": "code",
      "source": [
        "a = 10\n",
        "b = 20\n",
        "\n",
        "a == b"
      ],
      "metadata": {
        "colab": {
          "base_uri": "https://localhost:8080/"
        },
        "id": "gud_Xt3nJmOW",
        "outputId": "3e68136c-03aa-4edb-f1fe-fc68e753169a"
      },
      "execution_count": null,
      "outputs": [
        {
          "output_type": "execute_result",
          "data": {
            "text/plain": [
              "False"
            ]
          },
          "metadata": {},
          "execution_count": 35
        }
      ]
    },
    {
      "cell_type": "code",
      "source": [
        "a != b"
      ],
      "metadata": {
        "colab": {
          "base_uri": "https://localhost:8080/"
        },
        "id": "-AklDsbcKHoJ",
        "outputId": "f7bac66f-1d12-4712-f609-9f2ee4e33cd8"
      },
      "execution_count": null,
      "outputs": [
        {
          "output_type": "execute_result",
          "data": {
            "text/plain": [
              "True"
            ]
          },
          "metadata": {},
          "execution_count": 36
        }
      ]
    },
    {
      "cell_type": "markdown",
      "source": [
        "### 논리 연산자"
      ],
      "metadata": {
        "id": "-UmrbjOjKXO7"
      }
    },
    {
      "cell_type": "markdown",
      "source": [
        "| 논리 연산자          | 의미       |\n",
        "|----------------|---------------------|\n",
        "| 조건1 == 조건2 | 논리곱(and) 조건1과 조건2가 둘 다 참인 경우에만 참 |\n",
        "| 조건1 or 조건2 | 논리합(or) 조건1 또는 조건2 중 하나만 참이어도 참   |\n",
        "| not 조건 | 논리부정(not) 조건이 참이면 거짓, 거짓이면 참으로 논리 값을 반대로 변경 |\n",
        "\n"
      ],
      "metadata": {
        "id": "lOCZK9AGKdKh"
      }
    },
    {
      "cell_type": "code",
      "source": [
        "score1 = 70\n",
        "score2 = 80\n",
        "\n",
        "score1 >= 80 and score2 >= 80\n",
        "\n",
        "# 가장 가능성이 낮은 조건을 앞에다가 사용"
      ],
      "metadata": {
        "colab": {
          "base_uri": "https://localhost:8080/"
        },
        "id": "GsnojSByKO5q",
        "outputId": "ada5eaf9-e6e1-4f2b-c625-c666a11e18bb"
      },
      "execution_count": null,
      "outputs": [
        {
          "output_type": "execute_result",
          "data": {
            "text/plain": [
              "False"
            ]
          },
          "metadata": {},
          "execution_count": 39
        }
      ]
    },
    {
      "cell_type": "code",
      "source": [
        "score1 >= 80 or score2 >= 80"
      ],
      "metadata": {
        "colab": {
          "base_uri": "https://localhost:8080/"
        },
        "id": "ITXRF9bZLQC6",
        "outputId": "96514e74-2afb-4774-ad07-86e8456a292d"
      },
      "execution_count": null,
      "outputs": [
        {
          "output_type": "execute_result",
          "data": {
            "text/plain": [
              "True"
            ]
          },
          "metadata": {},
          "execution_count": 40
        }
      ]
    },
    {
      "cell_type": "code",
      "source": [
        "# 예시\n",
        "# 매표소에서 나이를 확인하여, 65세 이상은 입장권을 무료로 처리하는 프로그램\n",
        "# 3가지 경우(적을떄, 같을때 ,많을 떄)를 테스트 해봐야 한다.\n",
        "\n",
        "age = int(input('나이를 입력하세요: '))\n",
        "\n",
        "ticket = 2000\n",
        "\n",
        "if age >= 65 :\n",
        "  ticket = 0\n",
        "\n",
        "print('나이 %d' % age)\n",
        "print('입장료 %d원' % ticket)\n",
        "\n"
      ],
      "metadata": {
        "colab": {
          "base_uri": "https://localhost:8080/"
        },
        "id": "lyeD-azqLee2",
        "outputId": "1d588a6a-0e94-425c-d191-7280573a0b9e"
      },
      "execution_count": null,
      "outputs": [
        {
          "output_type": "stream",
          "name": "stdout",
          "text": [
            "나이를 입력하세요: 88\n",
            "나이 88\n",
            "입장료 0원\n"
          ]
        }
      ]
    },
    {
      "cell_type": "markdown",
      "source": [
        "# 03 반복문"
      ],
      "metadata": {
        "id": "3MhrlPzTMoju"
      }
    },
    {
      "cell_type": "markdown",
      "source": [
        "## 03-1 for문"
      ],
      "metadata": {
        "id": "2VFWnRSFMuA6"
      }
    },
    {
      "cell_type": "markdown",
      "source": [
        "\n",
        "### `range()` 함수를 사용한 범위만큼 반복하기"
      ],
      "metadata": {
        "id": "p7sNbrXpMyr9"
      }
    },
    {
      "cell_type": "code",
      "source": [
        "range(10)"
      ],
      "metadata": {
        "colab": {
          "base_uri": "https://localhost:8080/"
        },
        "id": "gCPinnWLNSNK",
        "outputId": "fe14d307-d684-4360-c8fb-cf38bb9948eb"
      },
      "execution_count": null,
      "outputs": [
        {
          "output_type": "execute_result",
          "data": {
            "text/plain": [
              "range(0, 10)"
            ]
          },
          "metadata": {},
          "execution_count": 49
        }
      ]
    },
    {
      "cell_type": "code",
      "source": [
        "for i in range(10):  # 0 ~ 9의 범위\n",
        "  print(i , i+i)"
      ],
      "metadata": {
        "colab": {
          "base_uri": "https://localhost:8080/"
        },
        "id": "ku76l2UOLnst",
        "outputId": "aa7153d2-2c8b-4a2e-b192-c93a5e64e1b0"
      },
      "execution_count": null,
      "outputs": [
        {
          "output_type": "stream",
          "name": "stdout",
          "text": [
            "0 0\n",
            "1 2\n",
            "2 4\n",
            "3 6\n",
            "4 8\n",
            "5 10\n",
            "6 12\n",
            "7 14\n",
            "8 16\n",
            "9 18\n"
          ]
        }
      ]
    },
    {
      "cell_type": "code",
      "source": [
        "for i in range(1,11):  # 1 ~ 10\n",
        "  print(i, end = ' ')  # end = ' ': 한칸 띄어서 한줄로 출력하기"
      ],
      "metadata": {
        "colab": {
          "base_uri": "https://localhost:8080/"
        },
        "id": "57j1KnM-Mqx1",
        "outputId": "3c20f3e5-166d-49fb-ec6d-e56df1058e6d"
      },
      "execution_count": null,
      "outputs": [
        {
          "output_type": "stream",
          "name": "stdout",
          "text": [
            "1 2 3 4 5 6 7 8 9 10 "
          ]
        }
      ]
    },
    {
      "cell_type": "code",
      "source": [
        "for i in range(1, 10 , 2):  # 1 ~ 10 , 2씩 증가 시키기\n",
        "\n",
        "  print(i, end = ' ')  # end = ' ': 한칸 띄어서 한줄로 출력하기"
      ],
      "metadata": {
        "colab": {
          "base_uri": "https://localhost:8080/"
        },
        "id": "f7NCx5lZNrfY",
        "outputId": "780a094a-4b5c-4258-d04a-f0dddbfc00db"
      },
      "execution_count": null,
      "outputs": [
        {
          "output_type": "stream",
          "name": "stdout",
          "text": [
            "1 3 5 7 9 "
          ]
        }
      ]
    },
    {
      "cell_type": "code",
      "source": [
        "for i in range(20, 0, -2):  # 20 ~ 0 , -2씩 감소\n",
        "  print(i, end = ' ')  # end = ' ': 한칸 띄어서 한줄로 출력하기"
      ],
      "metadata": {
        "colab": {
          "base_uri": "https://localhost:8080/"
        },
        "id": "888tXOPLN2At",
        "outputId": "d980146f-1eda-46aa-8f63-04ce3346ddf9"
      },
      "execution_count": null,
      "outputs": [
        {
          "output_type": "stream",
          "name": "stdout",
          "text": [
            "20 18 16 14 12 10 8 6 4 2 "
          ]
        }
      ]
    },
    {
      "cell_type": "markdown",
      "source": [
        "### 문자열 for문"
      ],
      "metadata": {
        "id": "W0LdkEAsOKTG"
      }
    },
    {
      "cell_type": "code",
      "source": [
        "# 사용자에게 단어를 입력받고 한글자씩 출력\n",
        "\n",
        "word = input('단어를 입력하시오: ')\n",
        "\n",
        "for w in word:\n",
        "  if w != '':\n",
        "    print(w)"
      ],
      "metadata": {
        "colab": {
          "base_uri": "https://localhost:8080/"
        },
        "id": "1t92fWMwN81X",
        "outputId": "eee829ce-a95d-48e9-cded-cebc8ecbc96a"
      },
      "execution_count": null,
      "outputs": [
        {
          "output_type": "stream",
          "name": "stdout",
          "text": [
            "단어를 입력하시오: ㅁㄴㅇㄹ ㅁㄴㅇ\n",
            "ㅁ\n",
            "ㄴ\n",
            "ㅇ\n",
            "ㄹ\n",
            " \n",
            "ㅁ\n",
            "ㄴ\n",
            "ㅇ\n"
          ]
        }
      ]
    },
    {
      "cell_type": "markdown",
      "source": [
        "## 03-2 while문"
      ],
      "metadata": {
        "id": "eTiaXmdSOsPT"
      }
    },
    {
      "cell_type": "code",
      "source": [
        "# while문으로 1~10까지의 합계를 구하라\n",
        "\n",
        "\n",
        "total = 0\n",
        "i = 1\n",
        "while i <= 10:\n",
        "  total = total +i\n",
        "  print('i의 값: %d => 합계: %d' % (i, total))\n",
        "\n",
        "  i = i+1  # <= 여기가 중요 (탈출코드) while 탈출문"
      ],
      "metadata": {
        "colab": {
          "base_uri": "https://localhost:8080/"
        },
        "id": "GUrq_DLyOcps",
        "outputId": "596bb950-4069-4c7c-8da7-609e26c9a155"
      },
      "execution_count": null,
      "outputs": [
        {
          "output_type": "stream",
          "name": "stdout",
          "text": [
            "i의 값: 1 => 합계: 1\n",
            "i의 값: 2 => 합계: 3\n",
            "i의 값: 3 => 합계: 6\n",
            "i의 값: 4 => 합계: 10\n",
            "i의 값: 5 => 합계: 15\n",
            "i의 값: 6 => 합계: 21\n",
            "i의 값: 7 => 합계: 28\n",
            "i의 값: 8 => 합계: 36\n",
            "i의 값: 9 => 합계: 45\n",
            "i의 값: 10 => 합계: 55\n"
          ]
        }
      ]
    },
    {
      "cell_type": "markdown",
      "source": [
        "### break문 반복문 탈출하기"
      ],
      "metadata": {
        "id": "nl3B7jBiPyf0"
      }
    },
    {
      "cell_type": "code",
      "source": [
        "# 단어를 출력하고, stop라는 단어 입력 시 프로그램 종료\n",
        "\n",
        "while True:\n",
        "  word = input('단어를 입력하시오: ')\n",
        "\n",
        "\n",
        "  if word == 'stop':\n",
        "    print('프로그램을 종료합니다...')\n",
        "    break\n",
        "\n",
        "  print(word)\n"
      ],
      "metadata": {
        "colab": {
          "base_uri": "https://localhost:8080/"
        },
        "id": "U3C0aF6lPjlm",
        "outputId": "9eb281e1-b21f-4753-d0f3-472839192871"
      },
      "execution_count": null,
      "outputs": [
        {
          "output_type": "stream",
          "name": "stdout",
          "text": [
            "단어를 입력하시오: asf\n",
            "asf\n",
            "단어를 입력하시오: asfasd\n",
            "asfasd\n",
            "단어를 입력하시오: adwcd\n",
            "adwcd\n",
            "단어를 입력하시오: feadc\n",
            "feadc\n",
            "단어를 입력하시오: stop\n",
            "프로그램을 종료합니다...\n"
          ]
        }
      ]
    },
    {
      "cell_type": "markdown",
      "source": [
        "# 04  자료 구조"
      ],
      "metadata": {
        "id": "Ns8-wQxiQ9zP"
      }
    },
    {
      "cell_type": "markdown",
      "source": [
        "## 04-1 리스트\n",
        "\n",
        "\n",
        "\n",
        "> 여러 개의 데이터를 하나의 변수로 담을 수 있는 자료 구조\n"
      ],
      "metadata": {
        "id": "R5gWHq9dRAbI"
      }
    },
    {
      "cell_type": "markdown",
      "source": [
        "### 리스트 생성"
      ],
      "metadata": {
        "id": "mJ4GwAkPRfQK"
      }
    },
    {
      "cell_type": "code",
      "source": [
        "list1 = [1,35,'사과','딸기']  # [] 사용하여 리스트 생성\n",
        "\n",
        "print(list1)"
      ],
      "metadata": {
        "colab": {
          "base_uri": "https://localhost:8080/"
        },
        "id": "WJE8pWNhQd2H",
        "outputId": "e17888f5-073c-4392-919d-e7617edb8adb"
      },
      "execution_count": null,
      "outputs": [
        {
          "output_type": "stream",
          "name": "stdout",
          "text": [
            "[1, 35, '사과', '딸기']\n"
          ]
        }
      ]
    },
    {
      "cell_type": "code",
      "source": [
        "list2 = list(range(1,10)) # list() 함수를 이용하여 리스트 생성\n",
        "print(list2)"
      ],
      "metadata": {
        "colab": {
          "base_uri": "https://localhost:8080/"
        },
        "id": "xaLcG-1VRuI5",
        "outputId": "bd62dd76-32be-4853-a2bc-cfe34da1a3db"
      },
      "execution_count": null,
      "outputs": [
        {
          "output_type": "stream",
          "name": "stdout",
          "text": [
            "[1, 2, 3, 4, 5, 6, 7, 8, 9]\n"
          ]
        }
      ]
    },
    {
      "cell_type": "markdown",
      "source": [
        "### 요소 추출"
      ],
      "metadata": {
        "id": "fJpah5KESKFq"
      }
    },
    {
      "cell_type": "code",
      "source": [
        "colors  = ['빨강', '주황','노랑','초록','파랑','남색','보라']\n",
        "\n",
        "print(colors)"
      ],
      "metadata": {
        "colab": {
          "base_uri": "https://localhost:8080/"
        },
        "id": "3sRUyhlPSB99",
        "outputId": "6fc31e07-6aeb-45cf-ba56-7407f1e472de"
      },
      "execution_count": null,
      "outputs": [
        {
          "output_type": "stream",
          "name": "stdout",
          "text": [
            "['빨강', '주황', '노랑', '초록', '파랑', '남색', '보라']\n"
          ]
        }
      ]
    },
    {
      "cell_type": "code",
      "source": [
        "print(colors[0])"
      ],
      "metadata": {
        "colab": {
          "base_uri": "https://localhost:8080/"
        },
        "id": "arNXl0w8Selr",
        "outputId": "00e55216-e41c-4b67-b186-22facf2486af"
      },
      "execution_count": null,
      "outputs": [
        {
          "output_type": "stream",
          "name": "stdout",
          "text": [
            "빨강\n"
          ]
        }
      ]
    },
    {
      "cell_type": "code",
      "source": [
        "print(colors[1])"
      ],
      "metadata": {
        "colab": {
          "base_uri": "https://localhost:8080/"
        },
        "id": "O59e4ZWiSqDx",
        "outputId": "cb8d77a7-feea-4810-b6a2-f470d885fae7"
      },
      "execution_count": null,
      "outputs": [
        {
          "output_type": "stream",
          "name": "stdout",
          "text": [
            "주황\n"
          ]
        }
      ]
    },
    {
      "cell_type": "code",
      "source": [
        "print(colors[2:5])"
      ],
      "metadata": {
        "colab": {
          "base_uri": "https://localhost:8080/"
        },
        "id": "3IFbRgZ7SrNv",
        "outputId": "b25db383-c669-45f6-9bce-f615f904169d"
      },
      "execution_count": null,
      "outputs": [
        {
          "output_type": "stream",
          "name": "stdout",
          "text": [
            "['노랑', '초록', '파랑']\n"
          ]
        }
      ]
    },
    {
      "cell_type": "code",
      "source": [
        "print(colors[6])\n",
        "\n",
        "print(colors[-1])  # 맨뒤에 출력"
      ],
      "metadata": {
        "colab": {
          "base_uri": "https://localhost:8080/"
        },
        "id": "TQC_pPamSvpu",
        "outputId": "c6740fe0-7fd4-4691-f5d6-873ba0c0c89b"
      },
      "execution_count": null,
      "outputs": [
        {
          "output_type": "stream",
          "name": "stdout",
          "text": [
            "보라\n",
            "보라\n"
          ]
        }
      ]
    },
    {
      "cell_type": "markdown",
      "source": [
        "### 요소 수정"
      ],
      "metadata": {
        "id": "Yk7i2mUiTJgs"
      }
    },
    {
      "cell_type": "code",
      "source": [
        "colors[1] = '회색'\n",
        "\n",
        "print(colors)"
      ],
      "metadata": {
        "colab": {
          "base_uri": "https://localhost:8080/"
        },
        "id": "-y4nomoMS-qs",
        "outputId": "ca3f5509-92c9-4871-bc7e-ff16cee4aac1"
      },
      "execution_count": null,
      "outputs": [
        {
          "output_type": "stream",
          "name": "stdout",
          "text": [
            "['빨강', '회색', '노랑', '초록', '파랑', '남색', '보라']\n"
          ]
        }
      ]
    },
    {
      "cell_type": "markdown",
      "source": [
        "### 요소 추가 `append()` 메서드"
      ],
      "metadata": {
        "id": "eO2_62PvTaK3"
      }
    },
    {
      "cell_type": "markdown",
      "source": [
        "* 함수: 자체적으로 실행되는 친구들\n",
        "\n",
        "\n",
        "* 메서드\n",
        "\n",
        "   1.객체가 있어야 한다\n",
        "   \n",
        "   2.독립적으로 실행 안된다."
      ],
      "metadata": {
        "id": "_oXkQGE8T064"
      }
    },
    {
      "cell_type": "code",
      "source": [
        "colors.append('금색')  # value\n",
        "print(colors)"
      ],
      "metadata": {
        "colab": {
          "base_uri": "https://localhost:8080/"
        },
        "id": "vJvspeJMTTat",
        "outputId": "631e071c-d968-4cdf-982a-dbdade7d7543"
      },
      "execution_count": null,
      "outputs": [
        {
          "output_type": "stream",
          "name": "stdout",
          "text": [
            "['빨강', '회색', '노랑', '초록', '파랑', '남색', '보라', '금색']\n"
          ]
        }
      ]
    },
    {
      "cell_type": "markdown",
      "source": [
        "### 요소 삽입 `insert()` 메서드"
      ],
      "metadata": {
        "id": "TL8tMcYtUTCZ"
      }
    },
    {
      "cell_type": "code",
      "source": [
        "colors.insert(0, '은색')  # index , value\n",
        "print(colors)"
      ],
      "metadata": {
        "colab": {
          "base_uri": "https://localhost:8080/"
        },
        "id": "rFsUhKlbTgkf",
        "outputId": "2bdebbe8-91d3-47e6-95df-d47a46fb1f69"
      },
      "execution_count": null,
      "outputs": [
        {
          "output_type": "stream",
          "name": "stdout",
          "text": [
            "['은색', '빨강', '회색', '노랑', '초록', '파랑', '남색', '보라', '금색']\n"
          ]
        }
      ]
    },
    {
      "cell_type": "markdown",
      "source": [
        "### 요소 삭제 `remove()` 메서드"
      ],
      "metadata": {
        "id": "pXVQi7giUog9"
      }
    },
    {
      "cell_type": "code",
      "source": [
        "colors.remove('은색')   # value\n",
        "print(colors)"
      ],
      "metadata": {
        "colab": {
          "base_uri": "https://localhost:8080/"
        },
        "id": "mWKL6kFRUg9u",
        "outputId": "b5da3b7c-77bf-41bc-9523-de7b0dcacb07"
      },
      "execution_count": null,
      "outputs": [
        {
          "output_type": "stream",
          "name": "stdout",
          "text": [
            "['빨강', '회색', '노랑', '초록', '파랑', '남색', '보라', '금색']\n"
          ]
        }
      ]
    },
    {
      "cell_type": "markdown",
      "source": [
        "### 요소 잘라내기 `pop()` 메서드"
      ],
      "metadata": {
        "id": "KnoTT0GeU5NL"
      }
    },
    {
      "cell_type": "code",
      "source": [
        "color = colors.pop(1) # index\n",
        "print(color)\n",
        "print(colors)"
      ],
      "metadata": {
        "colab": {
          "base_uri": "https://localhost:8080/"
        },
        "id": "0AtlWZpTUyst",
        "outputId": "b5ea356d-b336-4c7c-81ed-430941d8f71c"
      },
      "execution_count": null,
      "outputs": [
        {
          "output_type": "stream",
          "name": "stdout",
          "text": [
            "회색\n",
            "['빨강', '노랑', '초록', '파랑', '남색', '보라', '금색']\n"
          ]
        }
      ]
    },
    {
      "cell_type": "markdown",
      "source": [
        "### for문에서 리스트 사용"
      ],
      "metadata": {
        "id": "W8kOIt8rVTg_"
      }
    },
    {
      "cell_type": "code",
      "source": [
        "for color in colors:\n",
        "  print('나는 %s 색을 좋아합니다.' %color)"
      ],
      "metadata": {
        "colab": {
          "base_uri": "https://localhost:8080/"
        },
        "id": "ZBibAwTxVG4V",
        "outputId": "8a5e4bb9-b2a0-42d6-de5a-f98341616786"
      },
      "execution_count": null,
      "outputs": [
        {
          "output_type": "stream",
          "name": "stdout",
          "text": [
            "나는 빨강색을 좋아합니다.\n",
            "나는 노랑색을 좋아합니다.\n",
            "나는 초록색을 좋아합니다.\n",
            "나는 파랑색을 좋아합니다.\n",
            "나는 남색색을 좋아합니다.\n",
            "나는 보라색을 좋아합니다.\n",
            "나는 금색색을 좋아합니다.\n"
          ]
        }
      ]
    },
    {
      "cell_type": "markdown",
      "source": [
        "### 리스트 병합 `+`"
      ],
      "metadata": {
        "id": "0TggKy3xVo7S"
      }
    },
    {
      "cell_type": "code",
      "source": [
        "merge_list = list1 + list2\n",
        "print(merge_list)"
      ],
      "metadata": {
        "colab": {
          "base_uri": "https://localhost:8080/"
        },
        "id": "yE1t0cqTVj5Y",
        "outputId": "c026eecb-2a6f-4878-bc4e-1ced33ec0323"
      },
      "execution_count": null,
      "outputs": [
        {
          "output_type": "stream",
          "name": "stdout",
          "text": [
            "[1, 35, '사과', '딸기', 1, 2, 3, 4, 5, 6, 7, 8, 9]\n"
          ]
        }
      ]
    },
    {
      "cell_type": "markdown",
      "source": [
        "### 리스트 순서(index) 반대로 `reverse()` 메서드"
      ],
      "metadata": {
        "id": "uZzlUj_aV36L"
      }
    },
    {
      "cell_type": "code",
      "source": [
        "data = [10,20,30,40,50]\n",
        "print(data)\n",
        "data.reverse()\n",
        "\n",
        "print(data)\n",
        "data.reverse()\n",
        "\n",
        "print(data)"
      ],
      "metadata": {
        "colab": {
          "base_uri": "https://localhost:8080/"
        },
        "id": "jO4Z3HnRVyu8",
        "outputId": "2490ece2-10d9-4396-e329-a5aa7ff80c64"
      },
      "execution_count": null,
      "outputs": [
        {
          "output_type": "stream",
          "name": "stdout",
          "text": [
            "[10, 20, 30, 40, 50]\n",
            "[50, 40, 30, 20, 10]\n",
            "[10, 20, 30, 40, 50]\n"
          ]
        }
      ]
    },
    {
      "cell_type": "markdown",
      "source": [
        "### 리스트 정렬 `sort()` 메서드"
      ],
      "metadata": {
        "id": "isi0zw5sWUc-"
      }
    },
    {
      "cell_type": "code",
      "source": [
        "print('기본',colors)\n",
        "\n",
        "colors.sort() # 오름차순 정렬 ㄱ~ㅎ\n",
        "print('오름차순 정렬: ',colors)\n",
        "\n"
      ],
      "metadata": {
        "colab": {
          "base_uri": "https://localhost:8080/"
        },
        "id": "9vpThHCdWNcI",
        "outputId": "d35e5493-0555-4360-ec9b-a14ae02deac5"
      },
      "execution_count": null,
      "outputs": [
        {
          "output_type": "stream",
          "name": "stdout",
          "text": [
            "기본 ['파랑', '초록', '빨강', '보라', '노랑', '남색', '금색']\n",
            "오름차순 정렬:  ['금색', '남색', '노랑', '보라', '빨강', '초록', '파랑']\n"
          ]
        }
      ]
    },
    {
      "cell_type": "code",
      "source": [
        "colors.sort(reverse = True) # 내림차순 정렬 ㄱ~ㅎ\n",
        "print('내림차순 정렬: ',colors)"
      ],
      "metadata": {
        "colab": {
          "base_uri": "https://localhost:8080/"
        },
        "id": "XwVTSQRAWkew",
        "outputId": "626f0704-c4b6-4dfb-8e0a-c86ef60b230a"
      },
      "execution_count": null,
      "outputs": [
        {
          "output_type": "stream",
          "name": "stdout",
          "text": [
            "내림차순 정렬:  ['파랑', '초록', '빨강', '보라', '노랑', '남색', '금색']\n"
          ]
        }
      ]
    },
    {
      "cell_type": "markdown",
      "source": [
        "### 문자열 찾기 `find()` 메서드"
      ],
      "metadata": {
        "id": "7n0mzRh5XCf3"
      }
    },
    {
      "cell_type": "code",
      "source": [
        "string1 = 'python is fun!'\n",
        "print(string1)\n",
        "\n",
        "# fun 찾기\n",
        "\n",
        "idx = string1.find('fun')\n",
        "print(idx)\n",
        "\n",
        "\n",
        "# 인덱스를 리턴한다\n",
        "# 찾는 값이 없으면 -1 반환한다."
      ],
      "metadata": {
        "colab": {
          "base_uri": "https://localhost:8080/"
        },
        "id": "TkwDWkGwW7ju",
        "outputId": "f60568cd-4b71-4b5d-bc5c-31d0c9c4497c"
      },
      "execution_count": null,
      "outputs": [
        {
          "output_type": "stream",
          "name": "stdout",
          "text": [
            "python is fun!\n",
            "10\n"
          ]
        }
      ]
    },
    {
      "cell_type": "markdown",
      "source": [
        "###  문자열 치환 `replace()` 메서드"
      ],
      "metadata": {
        "id": "3pgNJdx3XuAk"
      }
    },
    {
      "cell_type": "code",
      "source": [
        "string1 = '사과는 맛있다'\n",
        "print(string1)\n",
        "\n",
        "x = string1.replace('사과', '딸기')  # 교체되는 값 , 교체할 값\n",
        "print(x)\n",
        "\n",
        "# 원본을 바꾸는게 아니라 복사본을 x에 저장한다."
      ],
      "metadata": {
        "colab": {
          "base_uri": "https://localhost:8080/"
        },
        "id": "YxlnBGQ1XZio",
        "outputId": "5bfbb3ce-4fb8-410c-a895-4454b9c9bc16"
      },
      "execution_count": null,
      "outputs": [
        {
          "output_type": "stream",
          "name": "stdout",
          "text": [
            "사과는 맛있다\n",
            "딸기는 맛있다\n"
          ]
        }
      ]
    },
    {
      "cell_type": "code",
      "source": [
        "# 전화번호에서 하이픈 삭제하기 또는 특수기호 삭제시 많이 사용\n",
        "\n",
        "phone1 = '010-1234-5678'\n",
        "print(phone1)\n",
        "\n",
        "phone2 = phone1.replace('-','')\n",
        "print(phone2)"
      ],
      "metadata": {
        "colab": {
          "base_uri": "https://localhost:8080/"
        },
        "id": "rewxVs4IYHR2",
        "outputId": "f95bb3ca-b0fe-47b5-9078-5e8ee2fa697a"
      },
      "execution_count": null,
      "outputs": [
        {
          "output_type": "stream",
          "name": "stdout",
          "text": [
            "010-1234-5678\n",
            "01012345678\n"
          ]
        }
      ]
    },
    {
      "cell_type": "markdown",
      "source": [
        "### 문자열 쪼개기 `split()` 메서드"
      ],
      "metadata": {
        "id": "zj-ntU0xYtbu"
      }
    },
    {
      "cell_type": "code",
      "source": [
        "list1 = phone1.split('-')\n",
        "\n",
        "print(list1)  # 리스트로 리턴"
      ],
      "metadata": {
        "colab": {
          "base_uri": "https://localhost:8080/"
        },
        "id": "xsNWdgg_YgHe",
        "outputId": "2d76507a-d7b0-406a-842e-df4e0fdf228a"
      },
      "execution_count": null,
      "outputs": [
        {
          "output_type": "stream",
          "name": "stdout",
          "text": [
            "['010', '1234', '5678']\n"
          ]
        }
      ]
    },
    {
      "cell_type": "markdown",
      "source": [
        "### 리스트를 문자열로 변환 `join()` 메서드"
      ],
      "metadata": {
        "id": "U14jauRVZLqZ"
      }
    },
    {
      "cell_type": "code",
      "source": [
        "# 쪼갠 값을 다시 붙이기\n",
        "\n",
        "x = ' '.join(list1)  # 중간에 넣을값 , 붙일 문자열\n",
        "print(x)"
      ],
      "metadata": {
        "colab": {
          "base_uri": "https://localhost:8080/"
        },
        "id": "LDxXvDNJY3Wq",
        "outputId": "247c8a1c-fd80-4318-c2b4-dcf792880b42"
      },
      "execution_count": null,
      "outputs": [
        {
          "output_type": "stream",
          "name": "stdout",
          "text": [
            "010 1234 5678\n"
          ]
        }
      ]
    },
    {
      "cell_type": "markdown",
      "source": [
        "## 04-2 튜플\n",
        "\n",
        "> 여러 개의 데이터를 하나의 변수로 담을 수 있는 자료 구조\n",
        "\n",
        "> 구조는 리스트와 같으나 요소의 추가와 수정이 불가능\n",
        "\n",
        "* 리스트의 읽기 모드\n",
        "* 보안이 필요한 경우에 사용"
      ],
      "metadata": {
        "id": "v6Utp7vtZl9D"
      }
    },
    {
      "cell_type": "markdown",
      "source": [
        "### 튜플 생성 => ( )"
      ],
      "metadata": {
        "id": "mle3OTNUaIl-"
      }
    },
    {
      "cell_type": "code",
      "source": [
        "animal = ('토끼', '거북이', '사자', '여우') # () 소괄호 사용하여 튜플 생성\n",
        "\n",
        "print(animal)"
      ],
      "metadata": {
        "colab": {
          "base_uri": "https://localhost:8080/"
        },
        "id": "AzuipGT0ZaRc",
        "outputId": "41039a2f-9c48-4484-f21d-b10dd0bc373a"
      },
      "execution_count": null,
      "outputs": [
        {
          "output_type": "stream",
          "name": "stdout",
          "text": [
            "('토끼', '거북이', '사자', '여우')\n"
          ]
        }
      ]
    },
    {
      "cell_type": "code",
      "source": [
        "numbers  = tuple(range(10)) # tuple 함수를 이용하여 튜플 생성\n",
        "print(numbers)"
      ],
      "metadata": {
        "colab": {
          "base_uri": "https://localhost:8080/"
        },
        "id": "WhTNaIe6aq4I",
        "outputId": "68fb3c3a-4a41-4e6d-eaa3-b2b048a415bc"
      },
      "execution_count": null,
      "outputs": [
        {
          "output_type": "stream",
          "name": "stdout",
          "text": [
            "(0, 1, 2, 3, 4, 5, 6, 7, 8, 9)\n"
          ]
        }
      ]
    },
    {
      "cell_type": "markdown",
      "source": [
        "### 요소 추가, 수정 불가능,  오직 추출만 가능"
      ],
      "metadata": {
        "id": "rdbIDPzba6YD"
      }
    },
    {
      "cell_type": "code",
      "source": [
        "# 슬라이싱 가능\n",
        "\n",
        "print(animal[0])\n",
        "print(animal[1:3])"
      ],
      "metadata": {
        "colab": {
          "base_uri": "https://localhost:8080/"
        },
        "id": "QjcbnKuea3vp",
        "outputId": "a5a1a71f-0d8a-4f0a-d28d-ab0a4442d40c"
      },
      "execution_count": null,
      "outputs": [
        {
          "output_type": "stream",
          "name": "stdout",
          "text": [
            "토끼\n",
            "('거북이', '사자')\n"
          ]
        }
      ]
    },
    {
      "cell_type": "markdown",
      "source": [
        "### 튜플 병합 `+`"
      ],
      "metadata": {
        "id": "hn2pMUKLbKPi"
      }
    },
    {
      "cell_type": "code",
      "source": [
        "merge_tuple = animal + numbers\n",
        "print(merge_tuple)"
      ],
      "metadata": {
        "colab": {
          "base_uri": "https://localhost:8080/"
        },
        "id": "w_lF0l_PbCHd",
        "outputId": "4dd4bc8e-04b7-465f-db2e-cbd69389a348"
      },
      "execution_count": null,
      "outputs": [
        {
          "output_type": "stream",
          "name": "stdout",
          "text": [
            "('토끼', '거북이', '사자', '여우', 0, 1, 2, 3, 4, 5, 6, 7, 8, 9)\n"
          ]
        }
      ]
    },
    {
      "cell_type": "markdown",
      "source": [
        "### 중요 정보 저장 시 사용"
      ],
      "metadata": {
        "id": "0vBzUA-HbWSs"
      }
    },
    {
      "cell_type": "code",
      "source": [
        "# 괸리자 정보 저장\n",
        "\n",
        "admin_info = ('admin', '12345', 'master@naver.com')\n",
        "\n",
        "print('관리자 정보')\n",
        "print('아이디', admin_info[0])\n",
        "print('패스워드', admin_info[1])\n",
        "print('이메일', admin_info[2])\n",
        "\n",
        "# 수정하지 않는 정보는 튜플에 담아보자"
      ],
      "metadata": {
        "colab": {
          "base_uri": "https://localhost:8080/"
        },
        "id": "vkePgXBUbTwM",
        "outputId": "5c4320cc-639b-457d-ab46-40df4e6ed931"
      },
      "execution_count": null,
      "outputs": [
        {
          "output_type": "stream",
          "name": "stdout",
          "text": [
            "관리자 정보\n",
            "아이디 admin\n",
            "패스워드 12345\n",
            "이메일 master@naver.com\n"
          ]
        }
      ]
    },
    {
      "cell_type": "markdown",
      "source": [
        "## 04-3 딕셔너리\n",
        "\n",
        "*  인덱스를 사용하지 않고 key-value 조합으로 데이터를 저장하는 구조"
      ],
      "metadata": {
        "id": "o0WFH7T6cCdl"
      }
    },
    {
      "cell_type": "markdown",
      "source": [
        "### 딕셔너리 생성"
      ],
      "metadata": {
        "id": "xVv9ab5idCut"
      }
    },
    {
      "cell_type": "code",
      "source": [
        "# {}를 사용하여 딕셔너리 생성\n",
        "\n",
        "member = {'name': '박유진',\n",
        "          'age': 24,\n",
        "          'id':'admin',\n",
        "          'password':'12345'}\n",
        "\n",
        "print(member)"
      ],
      "metadata": {
        "colab": {
          "base_uri": "https://localhost:8080/"
        },
        "id": "Ovw5Bd5_b2AJ",
        "outputId": "3d830585-3348-48b3-ed8b-e3094f4ec6a7"
      },
      "execution_count": null,
      "outputs": [
        {
          "output_type": "stream",
          "name": "stdout",
          "text": [
            "{'name': '박유진', 'age': 24, 'id': 'admin', 'password': '12345'}\n"
          ]
        }
      ]
    },
    {
      "cell_type": "code",
      "source": [
        "# dict() 함수를 사용하여 딕셔너리 생성\n",
        "\n",
        "score = dict([('국어',80),('수학',100),('영어',90)])\n",
        "print(score)"
      ],
      "metadata": {
        "colab": {
          "base_uri": "https://localhost:8080/"
        },
        "id": "3I39SnGSdBHd",
        "outputId": "7430a196-d79f-4ee5-d681-f31d2d76cf35"
      },
      "execution_count": null,
      "outputs": [
        {
          "output_type": "stream",
          "name": "stdout",
          "text": [
            "{'국어': 80, '수학': 100, '영어': 90}\n"
          ]
        }
      ]
    },
    {
      "cell_type": "markdown",
      "source": [
        "### 딕셔너리 추출"
      ],
      "metadata": {
        "id": "VKP3y98vdosk"
      }
    },
    {
      "cell_type": "code",
      "source": [
        "print(member['name'])\n",
        "print(member['id'])\n",
        "print(member['password'])\n"
      ],
      "metadata": {
        "colab": {
          "base_uri": "https://localhost:8080/"
        },
        "id": "2eUuc-yzdajo",
        "outputId": "c1ecc511-6a53-4f03-a0f1-f00ab43b0c33"
      },
      "execution_count": null,
      "outputs": [
        {
          "output_type": "stream",
          "name": "stdout",
          "text": [
            "박유진\n",
            "admin\n",
            "12345\n"
          ]
        }
      ]
    },
    {
      "cell_type": "markdown",
      "source": [
        "### 딕셔너리 요소 추가\n",
        "\n",
        "* key 존재하면 값이 수정\n",
        "* key 존재하지 않으면 key-value 추가"
      ],
      "metadata": {
        "id": "oomEuDoPeBW_"
      }
    },
    {
      "cell_type": "code",
      "source": [
        "member['email'] = 'dbsdosdb@gmail.com'\n",
        "\n",
        "print(member)"
      ],
      "metadata": {
        "colab": {
          "base_uri": "https://localhost:8080/"
        },
        "id": "IwyX0lkNdvB6",
        "outputId": "0c61925a-9f6f-4d2d-b955-e543f35789e9"
      },
      "execution_count": null,
      "outputs": [
        {
          "output_type": "stream",
          "name": "stdout",
          "text": [
            "{'name': '박유진', 'age': 24, 'id': 'admin', 'password': '12345', 'email': 'dbsdosdb@gmail.com'}\n"
          ]
        }
      ]
    },
    {
      "cell_type": "code",
      "source": [
        "member['name'] = '유진'\n",
        "\n",
        "print(member)"
      ],
      "metadata": {
        "colab": {
          "base_uri": "https://localhost:8080/"
        },
        "id": "0oAuEGwtd_rP",
        "outputId": "3c3e0f87-720a-43c9-d745-8f1cfa82cca3"
      },
      "execution_count": null,
      "outputs": [
        {
          "output_type": "stream",
          "name": "stdout",
          "text": [
            "{'name': '유진', 'age': 24, 'id': 'admin', 'password': '12345', 'email': 'dbsdosdb@gmail.com'}\n"
          ]
        }
      ]
    },
    {
      "cell_type": "markdown",
      "source": [
        "### 딕셔너리 요소 삭제 `pop()`메서드"
      ],
      "metadata": {
        "id": "FGki-xvDeTf1"
      }
    },
    {
      "cell_type": "code",
      "source": [
        "x = member.pop('email')\n",
        "print(x)"
      ],
      "metadata": {
        "colab": {
          "base_uri": "https://localhost:8080/"
        },
        "id": "CsOYSIRLeXVE",
        "outputId": "a0a50862-f2bf-46a3-c9aa-d0b7a030a400"
      },
      "execution_count": null,
      "outputs": [
        {
          "output_type": "stream",
          "name": "stdout",
          "text": [
            "dbsdosdb@gmail.com\n"
          ]
        }
      ]
    },
    {
      "cell_type": "code",
      "source": [
        "print(member)"
      ],
      "metadata": {
        "colab": {
          "base_uri": "https://localhost:8080/"
        },
        "id": "bacIaF_peP3S",
        "outputId": "f1fb7b75-dfc6-4786-c7bd-507db8a102f5"
      },
      "execution_count": null,
      "outputs": [
        {
          "output_type": "stream",
          "name": "stdout",
          "text": [
            "{'name': '유진', 'age': 24, 'id': 'admin', 'password': '12345'}\n"
          ]
        }
      ]
    },
    {
      "cell_type": "markdown",
      "source": [
        "### 딕셔너리 전체 요소 삭제 `clear()` 메서드"
      ],
      "metadata": {
        "id": "7BrP9T2yesg0"
      }
    },
    {
      "cell_type": "code",
      "source": [
        "member.clear()\n",
        "print(member)"
      ],
      "metadata": {
        "colab": {
          "base_uri": "https://localhost:8080/"
        },
        "id": "XGKS6K99eprN",
        "outputId": "a8adce1e-6ebf-4e78-a7fe-b8c3f1045e5c"
      },
      "execution_count": null,
      "outputs": [
        {
          "output_type": "stream",
          "name": "stdout",
          "text": [
            "{}\n"
          ]
        }
      ]
    },
    {
      "cell_type": "markdown",
      "source": [
        "### for문에서 딕셔너리 사용"
      ],
      "metadata": {
        "id": "vMcEoTOBe-23"
      }
    },
    {
      "cell_type": "code",
      "source": [
        "# 딕셔너리를 이용하여 영어 단어 퀴즈 프로그램\n",
        "\n",
        "words = {'꽃':'flower', '나비': 'butterfly',\n",
        "         '학교': 'school', '자동차':'car',\n",
        "         '비행기': 'airplane'}\n",
        "\n",
        "print('영어 단어 맞추기 퀴즈')\n",
        "\n",
        "\n",
        "\n",
        "for key in words: # 리스트와 다르게 값이 아니라 ,key 값을 kor변수에 담아서 준다.\n",
        "  print('')\n",
        "  input_word = input(' \"%s\" 에 해당되는 영어단어를 입력하세요:' %key)\n",
        "\n",
        "  if input_word == words[key]:\n",
        "\n",
        "    print('정답입니다!! ^ㅁ^')\n",
        "\n",
        "  else:\n",
        "    print('오답!! -_-')\n",
        "\n",
        "print('')\n",
        "print('영어 단어 퀴즈 종료')\n"
      ],
      "metadata": {
        "colab": {
          "base_uri": "https://localhost:8080/"
        },
        "id": "YqeFYacGe4Tw",
        "outputId": "74b3680d-71fc-4ca9-9aa0-1103961fbcde"
      },
      "execution_count": null,
      "outputs": [
        {
          "output_type": "stream",
          "name": "stdout",
          "text": [
            "영어 단어 맞추기 퀴즈\n",
            "\n",
            " \"꽃\" 에 해당되는 영어단어를 입력하세요:ㅁ\n",
            "오답!! -_-\n",
            "\n",
            " \"나비\" 에 해당되는 영어단어를 입력하세요:ㅊ\n",
            "오답!! -_-\n",
            "\n",
            " \"학교\" 에 해당되는 영어단어를 입력하세요:ㅊ\n",
            "오답!! -_-\n",
            "\n",
            " \"자동차\" 에 해당되는 영어단어를 입력하세요:ㅊ\n",
            "오답!! -_-\n",
            "\n",
            " \"비행기\" 에 해당되는 영어단어를 입력하세요:ㅊ\n",
            "오답!! -_-\n",
            "\n",
            "영어 단어 퀴즈 종료\n"
          ]
        }
      ]
    },
    {
      "cell_type": "code",
      "source": [],
      "metadata": {
        "id": "FuQhvka1hPEY"
      },
      "execution_count": null,
      "outputs": []
    }
  ]
}